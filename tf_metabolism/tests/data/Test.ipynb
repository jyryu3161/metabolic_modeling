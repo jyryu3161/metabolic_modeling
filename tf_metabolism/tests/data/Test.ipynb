{
 "cells": [
  {
   "cell_type": "code",
   "execution_count": 6,
   "metadata": {
    "collapsed": false
   },
   "outputs": [
    {
     "name": "stdout",
     "output_type": "stream",
     "text": [
      "['__add__', '__class__', '__contains__', '__delattr__', '__dict__', '__doc__', '__eq__', '__format__', '__ge__', '__getattribute__', '__getitem__', '__getslice__', '__getstate__', '__gt__', '__hash__', '__imul__', '__init__', '__iter__', '__le__', '__lt__', '__module__', '__mul__', '__ne__', '__new__', '__reduce__', '__reduce_ex__', '__repr__', '__setattr__', '__setstate__', '__sizeof__', '__str__', '__sub__', '__subclasshook__', '__weakref__', '_boundary_metabolites', '_genes', '_metabolites', '_model', '_parse_reaction', '_update_awareness', 'add_gene_reaction_rule', 'add_metabolites', 'annotation', 'boundary', 'build_reaction_string', 'check_mass_balance', 'copy', 'delete', 'endswith', 'gene_reaction_rule', 'get_coefficient', 'get_coefficients', 'get_compartments', 'get_gene', 'get_model', 'get_products', 'get_reactants', 'guided_copy', 'id', 'lower_bound', 'name', 'notes', 'objective_coefficient', 'parse_gene_association', 'pop', 'print_values', 'process_prefixed_reaction', 'reaction', 'reconstruct_reaction', 'reflection', 'remove_from_model', 'reversibility', 'startswith', 'subsystem', 'subtract_metabolites', 'upper_bound', 'variable_kind']\n",
      "MNXM3_c\n",
      "['__class__', '__contains__', '__delattr__', '__dict__', '__doc__', '__eq__', '__format__', '__ge__', '__getattribute__', '__getitem__', '__getslice__', '__getstate__', '__gt__', '__hash__', '__init__', '__iter__', '__le__', '__lt__', '__module__', '__ne__', '__new__', '__reduce__', '__reduce_ex__', '__repr__', '__setattr__', '__sizeof__', '__str__', '__subclasshook__', '__weakref__', '_bound', '_constraint_sense', '_model', '_reaction', 'annotation', 'charge', 'compartment', 'copy', 'endswith', 'formula', 'get_model', 'get_reaction', 'guided_copy', 'id', 'name', 'notes', 'parse_composition', 'remove_from_model', 'startswith']\n",
      "-1.0\n"
     ]
    }
   ],
   "source": [
    "from cobra.io import read_sbml_model, write_sbml_model\n",
    "\n",
    "cobra_model = read_sbml_model('./Medium_Recon2M.2.xml')\n",
    "for each_reaction in cobra_model.reactions:\n",
    "    print dir(each_reaction)\n",
    "    \n",
    "    reactant = each_reaction.get_reactants()[0]\n",
    "    print reactant\n",
    "    print dir(reactant)\n",
    "    print each_reaction.get_coefficient(reactant)\n",
    "    break"
   ]
  }
 ],
 "metadata": {
  "kernelspec": {
   "display_name": "Python 2",
   "language": "python",
   "name": "python2"
  },
  "language_info": {
   "codemirror_mode": {
    "name": "ipython",
    "version": 2
   },
   "file_extension": ".py",
   "mimetype": "text/x-python",
   "name": "python",
   "nbconvert_exporter": "python",
   "pygments_lexer": "ipython2",
   "version": "2.7.6"
  }
 },
 "nbformat": 4,
 "nbformat_minor": 0
}
